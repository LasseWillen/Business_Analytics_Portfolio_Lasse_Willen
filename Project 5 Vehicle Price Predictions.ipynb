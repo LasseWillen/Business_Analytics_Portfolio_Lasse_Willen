{
 "cells": [
  {
   "cell_type": "code",
   "execution_count": 1,
   "id": "549fcb0a-4817-4463-9544-a16ae02846bd",
   "metadata": {},
   "outputs": [],
   "source": [
    "# IMPORTING LIBRARIES"
   ]
  },
  {
   "cell_type": "code",
   "execution_count": 2,
   "id": "341c585d-dd71-4c0f-9289-718a371b5acd",
   "metadata": {},
   "outputs": [],
   "source": [
    "import pandas as pd\n",
    "import numpy as np\n",
    "import matplotlib.pyplot as plt\n",
    "from sklearn.model_selection import train_test_split\n",
    "from sklearn.linear_model import LinearRegression\n",
    "from sklearn.metrics import mean_squared_error, r2_score\n",
    "from sklearn.preprocessing import StandardScaler, OneHotEncoder\n",
    "from sklearn.compose import ColumnTransformer\n",
    "from sklearn.pipeline import Pipeline\n",
    "from sklearn.ensemble import RandomForestRegressor\n",
    "from sklearn.cluster import KMeans\n",
    "from sklearn.decomposition import TruncatedSVD"
   ]
  },
  {
   "cell_type": "code",
   "execution_count": 3,
   "id": "9087c100-e075-45e5-87d8-4f735f8653fc",
   "metadata": {},
   "outputs": [],
   "source": [
    "# IMPORTING THE DATA SET"
   ]
  },
  {
   "cell_type": "code",
   "execution_count": 4,
   "id": "e1593fe1-04c1-46c3-b859-0aacdbcab3bd",
   "metadata": {},
   "outputs": [
    {
     "data": {
      "text/html": [
       "<div>\n",
       "<style scoped>\n",
       "    .dataframe tbody tr th:only-of-type {\n",
       "        vertical-align: middle;\n",
       "    }\n",
       "\n",
       "    .dataframe tbody tr th {\n",
       "        vertical-align: top;\n",
       "    }\n",
       "\n",
       "    .dataframe thead th {\n",
       "        text-align: right;\n",
       "    }\n",
       "</style>\n",
       "<table border=\"1\" class=\"dataframe\">\n",
       "  <thead>\n",
       "    <tr style=\"text-align: right;\">\n",
       "      <th></th>\n",
       "      <th>year</th>\n",
       "      <th>make</th>\n",
       "      <th>model</th>\n",
       "      <th>trim</th>\n",
       "      <th>body</th>\n",
       "      <th>transmission</th>\n",
       "      <th>vin</th>\n",
       "      <th>state</th>\n",
       "      <th>condition</th>\n",
       "      <th>odometer</th>\n",
       "      <th>color</th>\n",
       "      <th>interior</th>\n",
       "      <th>seller</th>\n",
       "      <th>mmr</th>\n",
       "      <th>sellingprice</th>\n",
       "      <th>saledate</th>\n",
       "    </tr>\n",
       "  </thead>\n",
       "  <tbody>\n",
       "    <tr>\n",
       "      <th>0</th>\n",
       "      <td>2015</td>\n",
       "      <td>Kia</td>\n",
       "      <td>Sorento</td>\n",
       "      <td>LX</td>\n",
       "      <td>SUV</td>\n",
       "      <td>automatic</td>\n",
       "      <td>5xyktca69fg566472</td>\n",
       "      <td>ca</td>\n",
       "      <td>5.0</td>\n",
       "      <td>16639.0</td>\n",
       "      <td>white</td>\n",
       "      <td>black</td>\n",
       "      <td>kia motors america  inc</td>\n",
       "      <td>20500.0</td>\n",
       "      <td>21500.0</td>\n",
       "      <td>Tue Dec 16 2014 12:30:00 GMT-0800 (PST)</td>\n",
       "    </tr>\n",
       "    <tr>\n",
       "      <th>1</th>\n",
       "      <td>2015</td>\n",
       "      <td>Kia</td>\n",
       "      <td>Sorento</td>\n",
       "      <td>LX</td>\n",
       "      <td>SUV</td>\n",
       "      <td>automatic</td>\n",
       "      <td>5xyktca69fg561319</td>\n",
       "      <td>ca</td>\n",
       "      <td>5.0</td>\n",
       "      <td>9393.0</td>\n",
       "      <td>white</td>\n",
       "      <td>beige</td>\n",
       "      <td>kia motors america  inc</td>\n",
       "      <td>20800.0</td>\n",
       "      <td>21500.0</td>\n",
       "      <td>Tue Dec 16 2014 12:30:00 GMT-0800 (PST)</td>\n",
       "    </tr>\n",
       "    <tr>\n",
       "      <th>2</th>\n",
       "      <td>2014</td>\n",
       "      <td>BMW</td>\n",
       "      <td>3 Series</td>\n",
       "      <td>328i SULEV</td>\n",
       "      <td>Sedan</td>\n",
       "      <td>automatic</td>\n",
       "      <td>wba3c1c51ek116351</td>\n",
       "      <td>ca</td>\n",
       "      <td>45.0</td>\n",
       "      <td>1331.0</td>\n",
       "      <td>gray</td>\n",
       "      <td>black</td>\n",
       "      <td>financial services remarketing (lease)</td>\n",
       "      <td>31900.0</td>\n",
       "      <td>30000.0</td>\n",
       "      <td>Thu Jan 15 2015 04:30:00 GMT-0800 (PST)</td>\n",
       "    </tr>\n",
       "  </tbody>\n",
       "</table>\n",
       "</div>"
      ],
      "text/plain": [
       "   year make     model        trim   body transmission                vin  \\\n",
       "0  2015  Kia   Sorento          LX    SUV    automatic  5xyktca69fg566472   \n",
       "1  2015  Kia   Sorento          LX    SUV    automatic  5xyktca69fg561319   \n",
       "2  2014  BMW  3 Series  328i SULEV  Sedan    automatic  wba3c1c51ek116351   \n",
       "\n",
       "  state  condition  odometer  color interior  \\\n",
       "0    ca        5.0   16639.0  white    black   \n",
       "1    ca        5.0    9393.0  white    beige   \n",
       "2    ca       45.0    1331.0   gray    black   \n",
       "\n",
       "                                   seller      mmr  sellingprice  \\\n",
       "0                 kia motors america  inc  20500.0       21500.0   \n",
       "1                 kia motors america  inc  20800.0       21500.0   \n",
       "2  financial services remarketing (lease)  31900.0       30000.0   \n",
       "\n",
       "                                  saledate  \n",
       "0  Tue Dec 16 2014 12:30:00 GMT-0800 (PST)  \n",
       "1  Tue Dec 16 2014 12:30:00 GMT-0800 (PST)  \n",
       "2  Thu Jan 15 2015 04:30:00 GMT-0800 (PST)  "
      ]
     },
     "execution_count": 4,
     "metadata": {},
     "output_type": "execute_result"
    }
   ],
   "source": [
    "# use the link in the project description on the website to find the dataset on Kaggle. It is too big to upload on GitHub\n",
    "file_path = \"/Users/lassewillen/Downloads/car_prices.csv\"\n",
    "car_data = pd.read_csv(file_path)\n",
    "car_data.head(3)"
   ]
  },
  {
   "cell_type": "code",
   "execution_count": 5,
   "id": "6cf3c41c-86ca-48e1-8849-6d7838898ce5",
   "metadata": {},
   "outputs": [
    {
     "data": {
      "text/html": [
       "<div>\n",
       "<style scoped>\n",
       "    .dataframe tbody tr th:only-of-type {\n",
       "        vertical-align: middle;\n",
       "    }\n",
       "\n",
       "    .dataframe tbody tr th {\n",
       "        vertical-align: top;\n",
       "    }\n",
       "\n",
       "    .dataframe thead th {\n",
       "        text-align: right;\n",
       "    }\n",
       "</style>\n",
       "<table border=\"1\" class=\"dataframe\">\n",
       "  <thead>\n",
       "    <tr style=\"text-align: right;\">\n",
       "      <th></th>\n",
       "      <th>year</th>\n",
       "      <th>condition</th>\n",
       "      <th>odometer</th>\n",
       "      <th>mmr</th>\n",
       "      <th>sellingprice</th>\n",
       "    </tr>\n",
       "  </thead>\n",
       "  <tbody>\n",
       "    <tr>\n",
       "      <th>count</th>\n",
       "      <td>558837.0</td>\n",
       "      <td>547017.0</td>\n",
       "      <td>558743.0</td>\n",
       "      <td>558799.0</td>\n",
       "      <td>558825.0</td>\n",
       "    </tr>\n",
       "    <tr>\n",
       "      <th>mean</th>\n",
       "      <td>2010.0</td>\n",
       "      <td>31.0</td>\n",
       "      <td>68320.0</td>\n",
       "      <td>13769.0</td>\n",
       "      <td>13611.0</td>\n",
       "    </tr>\n",
       "    <tr>\n",
       "      <th>std</th>\n",
       "      <td>4.0</td>\n",
       "      <td>13.0</td>\n",
       "      <td>53399.0</td>\n",
       "      <td>9680.0</td>\n",
       "      <td>9750.0</td>\n",
       "    </tr>\n",
       "    <tr>\n",
       "      <th>min</th>\n",
       "      <td>1982.0</td>\n",
       "      <td>1.0</td>\n",
       "      <td>1.0</td>\n",
       "      <td>25.0</td>\n",
       "      <td>1.0</td>\n",
       "    </tr>\n",
       "    <tr>\n",
       "      <th>25%</th>\n",
       "      <td>2007.0</td>\n",
       "      <td>23.0</td>\n",
       "      <td>28371.0</td>\n",
       "      <td>7100.0</td>\n",
       "      <td>6900.0</td>\n",
       "    </tr>\n",
       "    <tr>\n",
       "      <th>50%</th>\n",
       "      <td>2012.0</td>\n",
       "      <td>35.0</td>\n",
       "      <td>52254.0</td>\n",
       "      <td>12250.0</td>\n",
       "      <td>12100.0</td>\n",
       "    </tr>\n",
       "    <tr>\n",
       "      <th>75%</th>\n",
       "      <td>2013.0</td>\n",
       "      <td>42.0</td>\n",
       "      <td>99109.0</td>\n",
       "      <td>18300.0</td>\n",
       "      <td>18200.0</td>\n",
       "    </tr>\n",
       "    <tr>\n",
       "      <th>max</th>\n",
       "      <td>2015.0</td>\n",
       "      <td>49.0</td>\n",
       "      <td>999999.0</td>\n",
       "      <td>182000.0</td>\n",
       "      <td>230000.0</td>\n",
       "    </tr>\n",
       "  </tbody>\n",
       "</table>\n",
       "</div>"
      ],
      "text/plain": [
       "           year  condition  odometer       mmr  sellingprice\n",
       "count  558837.0   547017.0  558743.0  558799.0      558825.0\n",
       "mean     2010.0       31.0   68320.0   13769.0       13611.0\n",
       "std         4.0       13.0   53399.0    9680.0        9750.0\n",
       "min      1982.0        1.0       1.0      25.0           1.0\n",
       "25%      2007.0       23.0   28371.0    7100.0        6900.0\n",
       "50%      2012.0       35.0   52254.0   12250.0       12100.0\n",
       "75%      2013.0       42.0   99109.0   18300.0       18200.0\n",
       "max      2015.0       49.0  999999.0  182000.0      230000.0"
      ]
     },
     "execution_count": 5,
     "metadata": {},
     "output_type": "execute_result"
    }
   ],
   "source": [
    "car_data.describe().round()"
   ]
  },
  {
   "cell_type": "code",
   "execution_count": 6,
   "id": "e53413e4-3b9e-4f68-bb49-48af851b1b3e",
   "metadata": {},
   "outputs": [],
   "source": [
    "# DATA CLEANING"
   ]
  },
  {
   "cell_type": "code",
   "execution_count": 7,
   "id": "2a9bf2f8-eecd-4969-9a42-6684f162950c",
   "metadata": {},
   "outputs": [],
   "source": [
    "#dropping missing values \n",
    "# no duplicate removal as it is highly plausbile that duplicates exist in such a dataset\n",
    "car_data.dropna(inplace=True)"
   ]
  },
  {
   "cell_type": "code",
   "execution_count": 8,
   "id": "251cf51e-30a3-4788-a22b-7b179e3f198f",
   "metadata": {},
   "outputs": [
    {
     "data": {
      "text/plain": [
       "year            0\n",
       "make            0\n",
       "model           0\n",
       "trim            0\n",
       "body            0\n",
       "transmission    0\n",
       "vin             0\n",
       "state           0\n",
       "condition       0\n",
       "odometer        0\n",
       "color           0\n",
       "interior        0\n",
       "seller          0\n",
       "mmr             0\n",
       "sellingprice    0\n",
       "saledate        0\n",
       "dtype: int64"
      ]
     },
     "execution_count": 8,
     "metadata": {},
     "output_type": "execute_result"
    }
   ],
   "source": [
    "car_data.isna().sum()"
   ]
  },
  {
   "cell_type": "code",
   "execution_count": 9,
   "id": "4a1bcc3b",
   "metadata": {},
   "outputs": [
    {
     "name": "stderr",
     "output_type": "stream",
     "text": [
      "/var/folders/k3/zy7bwjn17dbd2rp0jjzmcqt00000gn/T/ipykernel_33694/1339669037.py:7: UserWarning: Could not infer format, so each element will be parsed individually, falling back to `dateutil`. To ensure parsing is consistent and as-expected, please specify a format.\n",
      "  car_data['saledate'] = pd.to_datetime(car_data['saledate'], errors='coerce')\n"
     ]
    }
   ],
   "source": [
    "from datetime import datetime\n",
    "\n",
    "# Step 1: Removing rows where 'make', 'model', or 'vin' is missing\n",
    "car_data = car_data.dropna(subset=['make', 'model', 'vin'])\n",
    "\n",
    "# Step 2: Converting 'saledate' to datetime format\n",
    "car_data['saledate'] = pd.to_datetime(car_data['saledate'], errors='coerce')\n",
    "\n",
    "# Step 3: Removing rows with missing values in 'odometer', 'mmr', and 'sellingprice'\n",
    "car_data = car_data.dropna(subset=['odometer', 'mmr', 'sellingprice'])\n"
   ]
  },
  {
   "cell_type": "code",
   "execution_count": 10,
   "id": "ce4926b7",
   "metadata": {},
   "outputs": [
    {
     "data": {
      "text/plain": [
       "{'Cleaned rows after further steps': 472325,\n",
       " 'Current missing values after further steps': year            0\n",
       " make            0\n",
       " model           0\n",
       " trim            0\n",
       " body            0\n",
       " transmission    0\n",
       " vin             0\n",
       " state           0\n",
       " condition       0\n",
       " odometer        0\n",
       " color           0\n",
       " interior        0\n",
       " seller          0\n",
       " mmr             0\n",
       " sellingprice    0\n",
       " saledate        0\n",
       " dtype: int64}"
      ]
     },
     "execution_count": 10,
     "metadata": {},
     "output_type": "execute_result"
    }
   ],
   "source": [
    "# Further cleaning steps\n",
    "\n",
    "# Normalizing textual data: Converting 'make', 'model', 'trim', 'body', 'color', and 'interior' to lowercase\n",
    "text_columns = ['make', 'model', 'trim', 'body', 'color', 'interior']\n",
    "car_data[text_columns] = car_data[text_columns].apply(lambda x: x.str.lower())\n",
    "\n",
    "# Handling 'transmission' missing values by categorizing them as 'unknown'\n",
    "car_data['transmission'] = car_data['transmission'].fillna('unknown')\n",
    "\n",
    "# Imputing 'condition' missing values with the median of the 'condition' column\n",
    "condition_median = car_data['condition'].median()\n",
    "car_data['condition'] = car_data['condition'].fillna(condition_median)\n",
    "\n",
    "# Final check on the current state of missing values after further cleaning\n",
    "final_missing_values_summary = car_data.isnull().sum()\n",
    "\n",
    "# Displaying the summary of cleaned data\n",
    "final_cleaned_summary = {\n",
    "    \"Cleaned rows after further steps\": car_data.shape[0],\n",
    "    \"Current missing values after further steps\": final_missing_values_summary\n",
    "}\n",
    "\n",
    "final_cleaned_summary\n"
   ]
  },
  {
   "cell_type": "code",
   "execution_count": 11,
   "id": "0512712f",
   "metadata": {},
   "outputs": [
    {
     "data": {
      "text/plain": [
       "{'year': 9799,\n",
       " 'condition': 0,\n",
       " 'odometer': 9029,\n",
       " 'mmr': 14038,\n",
       " 'sellingprice': 14118}"
      ]
     },
     "execution_count": 11,
     "metadata": {},
     "output_type": "execute_result"
    }
   ],
   "source": [
    "# Import necessary libraries\n",
    "from scipy import stats\n",
    "# Define a function to detect and count outliers for each numerical column using the IQR method\n",
    "def count_outliers_iqr(dataframe, columns):\n",
    "    outlier_counts = {}\n",
    "    for column in columns:\n",
    "        q1 = dataframe[column].quantile(0.25)\n",
    "        q3 = dataframe[column].quantile(0.75)\n",
    "        iqr = q3 - q1\n",
    "        lower_bound = q1 - (1.5 * iqr)\n",
    "        upper_bound = q3 + (1.5 * iqr)\n",
    "        outliers = dataframe[(dataframe[column] < lower_bound) | (dataframe[column] > upper_bound)]\n",
    "        outlier_counts[column] = len(outliers)\n",
    "    return outlier_counts\n",
    "\n",
    "# List of numerical columns to check for outliers\n",
    "numerical_columns = ['year', 'condition', 'odometer', 'mmr', 'sellingprice']\n",
    "\n",
    "# Count outliers in each numerical column of car_data\n",
    "outlier_counts = count_outliers_iqr(car_data, numerical_columns)\n",
    "\n",
    "outlier_counts\n",
    "\n"
   ]
  },
  {
   "cell_type": "code",
   "execution_count": 12,
   "id": "8ad4fb4b",
   "metadata": {},
   "outputs": [
    {
     "data": {
      "text/plain": [
       "{'year': (1990, 2000),\n",
       " 'condition': (None, None),\n",
       " 'odometer': (199272.0, 999999.0),\n",
       " 'mmr': (34700.0, 182000.0),\n",
       " 'sellingprice': (34750.0, 230000.0)}"
      ]
     },
     "execution_count": 12,
     "metadata": {},
     "output_type": "execute_result"
    }
   ],
   "source": [
    "# Define a function to calculate the value range of outliers for each numerical column using the IQR method\n",
    "def outlier_value_range(dataframe, columns):\n",
    "    outlier_ranges = {}\n",
    "    for column in columns:\n",
    "        q1 = dataframe[column].quantile(0.25)\n",
    "        q3 = dataframe[column].quantile(0.75)\n",
    "        iqr = q3 - q1\n",
    "        lower_bound = q1 - (1.5 * iqr)\n",
    "        upper_bound = q3 + (1.5 * iqr)\n",
    "        outliers = dataframe[(dataframe[column] < lower_bound) | (dataframe[column] > upper_bound)]\n",
    "        if not outliers.empty:\n",
    "            min_outlier = outliers[column].min()\n",
    "            max_outlier = outliers[column].max()\n",
    "        else:\n",
    "            min_outlier = max_outlier = None\n",
    "        outlier_ranges[column] = (min_outlier, max_outlier)\n",
    "    return outlier_ranges\n",
    "\n",
    "# Calculate the value range of outliers for each numerical column in car_data\n",
    "outlier_value_ranges = outlier_value_range(car_data, numerical_columns)\n",
    "\n",
    "outlier_value_ranges"
   ]
  },
  {
   "cell_type": "code",
   "execution_count": 13,
   "id": "a5d4a2dc",
   "metadata": {},
   "outputs": [
    {
     "data": {
      "text/plain": [
       "(472258, 16)"
      ]
     },
     "execution_count": 13,
     "metadata": {},
     "output_type": "execute_result"
    }
   ],
   "source": [
    "# outliers are not ectreme instead of the odometers\n",
    "# Set the threshold for extreme odometer readings. Delete these rows\n",
    "odometer_threshold = 500000\n",
    "# outliers for prices are okay, odometer is not realistic. Therefore delete rows with odometer ratings\n",
    "# Correcting the DataFrame name to car_data and removing rows with odometer readings above the threshold\n",
    "car_data = car_data[car_data['odometer'] <= odometer_threshold]\n",
    "\n",
    "# Verify the correction by checking the shape of the cleaned dataset\n",
    "car_data.shape\n"
   ]
  },
  {
   "cell_type": "code",
   "execution_count": 14,
   "id": "81e765e0-08b9-46cd-bc43-c2d2bdd35146",
   "metadata": {},
   "outputs": [],
   "source": [
    "# SUPERVISED ALGORITHM"
   ]
  },
  {
   "cell_type": "code",
   "execution_count": 15,
   "id": "acd4a951-1073-44c3-9328-60f636e47c47",
   "metadata": {},
   "outputs": [
    {
     "name": "stdout",
     "output_type": "stream",
     "text": [
      "[19157.40276321 13928.57282114 15958.74990505  5655.48314154\n",
      "  8299.31472576]\n",
      "Linear Regression MSE: 40922682.29800585\n",
      "Linear Regression R² score: 0.5505725424162649\n"
     ]
    }
   ],
   "source": [
    "y = car_data['sellingprice']\n",
    "\n",
    "feature_columns = ['year', 'make', 'model', 'odometer', 'condition']\n",
    "X = car_data[feature_columns] \n",
    "\n",
    "X_train, X_test, y_train, y_test = train_test_split(X, y, test_size=0.2, random_state=42)\n",
    "\n",
    "categorical_features = ['make', 'model']\n",
    "numerical_features = ['year', 'odometer', 'condition']\n",
    "\n",
    "preprocessor = ColumnTransformer(\n",
    "    transformers=[\n",
    "        ('num', 'passthrough', numerical_features),\n",
    "        ('cat', OneHotEncoder(handle_unknown='ignore'), categorical_features)\n",
    "    ])\n",
    "\n",
    "model = Pipeline([\n",
    "    ('preprocessor', preprocessor),\n",
    "    ('regressor', LinearRegression())\n",
    "])\n",
    "\n",
    "\n",
    "model.fit(X_train, y_train)\n",
    "\n",
    "y_pred = model.predict(X_test)\n",
    "print(y_pred[:5])  \n",
    "print(f'Linear Regression MSE: {mean_squared_error(y_test, y_pred)}')\n",
    "print(f'Linear Regression R² score: {r2_score(y_test, y_pred)}')"
   ]
  },
  {
   "cell_type": "code",
   "execution_count": 16,
   "id": "d5d4212b-ff24-4ed3-a5d5-f47301e5da91",
   "metadata": {},
   "outputs": [],
   "source": [
    "# The model's predictions have an average squared error of 41.1 million, indicating substantial deviations from actual selling prices.\n",
    "# With an R² score of 0.547, the model explains about 54.7% of the variance in car selling prices from the selected features."
   ]
  },
  {
   "cell_type": "code",
   "execution_count": 17,
   "id": "ac3bf3ea-2fd9-4dc3-8fe9-5254d206e803",
   "metadata": {},
   "outputs": [
    {
     "name": "stdout",
     "output_type": "stream",
     "text": [
      "[16383.61143971 10496.09006101 24428.88893559 10767.42976145\n",
      "  6950.97935962]\n",
      "Random Forest Regression MSE: 2382148.5949252206\n",
      "Random Forest Regression R² score: 0.9738383965447915\n"
     ]
    }
   ],
   "source": [
    "#update the model pipeline to use a random forrest regressor \n",
    "y = car_data['sellingprice']\n",
    "X = car_data.drop(['sellingprice', 'vin', 'saledate'], axis=1)\n",
    "\n",
    "numerical_features = X.select_dtypes(include=['int64', 'float64']).columns.tolist()\n",
    "categorical_features = X.select_dtypes(include=['object']).columns.tolist()\n",
    "\n",
    "preprocessor = ColumnTransformer(\n",
    "    transformers=[\n",
    "        ('num', StandardScaler(), numerical_features),\n",
    "        ('cat', OneHotEncoder(handle_unknown='ignore'), categorical_features)\n",
    "    ])\n",
    "\n",
    "model_pipeline = Pipeline([\n",
    "    ('preprocessor', preprocessor),\n",
    "    ('regressor', RandomForestRegressor(n_estimators=100, max_depth=10, random_state=42))\n",
    "])\n",
    "\n",
    "X_train, X_test, y_train, y_test = train_test_split(X, y, test_size=0.2, random_state=42)\n",
    "\n",
    "model_pipeline.fit(X_train, y_train)\n",
    "\n",
    "y_pred = model_pipeline.predict(X_test)\n",
    "print(y_pred[:5]) \n",
    "print(f'Random Forest Regression MSE: {mean_squared_error(y_test, y_pred)}')\n",
    "print(f'Random Forest Regression R² score: {r2_score(y_test, y_pred)}')\n"
   ]
  },
  {
   "cell_type": "markdown",
   "id": "714f8446",
   "metadata": {},
   "source": [
    "The Random Forest model significantly improves prediction accuracy with an MSE of ~2.38 million and explains ~97.38% of the variance in car selling prices (R² score).\\n# Predicted selling prices for the first five cars in the test set range from approximately $4,049 to $22,966, indicating varied price predictions across the dataset."
   ]
  },
  {
   "cell_type": "code",
   "execution_count": 19,
   "id": "7dff2d10-7b37-4ddb-8024-b4edb2c2c11c",
   "metadata": {},
   "outputs": [],
   "source": [
    "# UNSUPERVISED ALGORTHM \n",
    "# to assess car data and cluster it based on characteristics not including sellingprice"
   ]
  },
  {
   "cell_type": "code",
   "execution_count": 20,
   "id": "2d603a48-bc1b-4f34-b2b0-0048bb715e6c",
   "metadata": {},
   "outputs": [
    {
     "data": {
      "image/png": "[encoded data removed]",
      "text/plain": [
       "<Figure size 640x480 with 1 Axes>"
      ]
     },
     "metadata": {},
     "output_type": "display_data"
    },
    {
     "data": {
      "text/html": [
       "<style>#sk-container-id-1 {color: black;}#sk-container-id-1 pre{padding: 0;}#sk-container-id-1 div.sk-toggleable {background-color: white;}#sk-container-id-1 label.sk-toggleable__label {cursor: pointer;display: block;width: 100%;margin-bottom: 0;padding: 0.3em;box-sizing: border-box;text-align: center;}#sk-container-id-1 label.sk-toggleable__label-arrow:before {content: \"▸\";float: left;margin-right: 0.25em;color: #696969;}#sk-container-id-1 label.sk-toggleable__label-arrow:hover:before {color: black;}#sk-container-id-1 div.sk-estimator:hover label.sk-toggleable__label-arrow:before {color: black;}#sk-container-id-1 div.sk-toggleable__content {max-height: 0;max-width: 0;overflow: hidden;text-align: left;background-color: #f0f8ff;}#sk-container-id-1 div.sk-toggleable__content pre {margin: 0.2em;color: black;border-radius: 0.25em;background-color: #f0f8ff;}#sk-container-id-1 input.sk-toggleable__control:checked~div.sk-toggleable__content {max-height: 200px;max-width: 100%;overflow: auto;}#sk-container-id-1 input.sk-toggleable__control:checked~label.sk-toggleable__label-arrow:before {content: \"▾\";}#sk-container-id-1 div.sk-estimator input.sk-toggleable__control:checked~label.sk-toggleable__label {background-color: #d4ebff;}#sk-container-id-1 div.sk-label input.sk-toggleable__control:checked~label.sk-toggleable__label {background-color: #d4ebff;}#sk-container-id-1 input.sk-hidden--visually {border: 0;clip: rect(1px 1px 1px 1px);clip: rect(1px, 1px, 1px, 1px);height: 1px;margin: -1px;overflow: hidden;padding: 0;position: absolute;width: 1px;}#sk-container-id-1 div.sk-estimator {font-family: monospace;background-color: #f0f8ff;border: 1px dotted black;border-radius: 0.25em;box-sizing: border-box;margin-bottom: 0.5em;}#sk-container-id-1 div.sk-estimator:hover {background-color: #d4ebff;}#sk-container-id-1 div.sk-parallel-item::after {content: \"\";width: 100%;border-bottom: 1px solid gray;flex-grow: 1;}#sk-container-id-1 div.sk-label:hover label.sk-toggleable__label {background-color: #d4ebff;}#sk-container-id-1 div.sk-serial::before {content: \"\";position: absolute;border-left: 1px solid gray;box-sizing: border-box;top: 0;bottom: 0;left: 50%;z-index: 0;}#sk-container-id-1 div.sk-serial {display: flex;flex-direction: column;align-items: center;background-color: white;padding-right: 0.2em;padding-left: 0.2em;position: relative;}#sk-container-id-1 div.sk-item {position: relative;z-index: 1;}#sk-container-id-1 div.sk-parallel {display: flex;align-items: stretch;justify-content: center;background-color: white;position: relative;}#sk-container-id-1 div.sk-item::before, #sk-container-id-1 div.sk-parallel-item::before {content: \"\";position: absolute;border-left: 1px solid gray;box-sizing: border-box;top: 0;bottom: 0;left: 50%;z-index: -1;}#sk-container-id-1 div.sk-parallel-item {display: flex;flex-direction: column;z-index: 1;position: relative;background-color: white;}#sk-container-id-1 div.sk-parallel-item:first-child::after {align-self: flex-end;width: 50%;}#sk-container-id-1 div.sk-parallel-item:last-child::after {align-self: flex-start;width: 50%;}#sk-container-id-1 div.sk-parallel-item:only-child::after {width: 0;}#sk-container-id-1 div.sk-dashed-wrapped {border: 1px dashed gray;margin: 0 0.4em 0.5em 0.4em;box-sizing: border-box;padding-bottom: 0.4em;background-color: white;}#sk-container-id-1 div.sk-label label {font-family: monospace;font-weight: bold;display: inline-block;line-height: 1.2em;}#sk-container-id-1 div.sk-label-container {text-align: center;}#sk-container-id-1 div.sk-container {/* jupyter's `normalize.less` sets `[hidden] { display: none; }` but bootstrap.min.css set `[hidden] { display: none !important; }` so we also need the `!important` here to be able to override the default hidden behavior on the sphinx rendered scikit-learn.org. See: https://github.com/scikit-learn/scikit-learn/issues/21755 */display: inline-block !important;position: relative;}#sk-container-id-1 div.sk-text-repr-fallback {display: none;}</style><div id=\"sk-container-id-1\" class=\"sk-top-container\"><div class=\"sk-text-repr-fallback\"><pre>Pipeline(steps=[(&#x27;preprocessor&#x27;,\n",
       "                 ColumnTransformer(transformers=[(&#x27;num&#x27;, StandardScaler(),\n",
       "                                                  [&#x27;year&#x27;, &#x27;odometer&#x27;,\n",
       "                                                   &#x27;condition&#x27;]),\n",
       "                                                 (&#x27;cat&#x27;, OneHotEncoder(),\n",
       "                                                  [&#x27;make&#x27;, &#x27;model&#x27;])])),\n",
       "                (&#x27;cluster&#x27;, KMeans(n_clusters=10, n_init=10, random_state=0))])</pre><b>In a Jupyter environment, please rerun this cell to show the HTML representation or trust the notebook. <br />On GitHub, the HTML representation is unable to render, please try loading this page with nbviewer.org.</b></div><div class=\"sk-container\" hidden><div class=\"sk-item sk-dashed-wrapped\"><div class=\"sk-label-container\"><div class=\"sk-label sk-toggleable\"><input class=\"sk-toggleable__control sk-hidden--visually\" id=\"sk-estimator-id-1\" type=\"checkbox\" ><label for=\"sk-estimator-id-1\" class=\"sk-toggleable__label sk-toggleable__label-arrow\">Pipeline</label><div class=\"sk-toggleable__content\"><pre>Pipeline(steps=[(&#x27;preprocessor&#x27;,\n",
       "                 ColumnTransformer(transformers=[(&#x27;num&#x27;, StandardScaler(),\n",
       "                                                  [&#x27;year&#x27;, &#x27;odometer&#x27;,\n",
       "                                                   &#x27;condition&#x27;]),\n",
       "                                                 (&#x27;cat&#x27;, OneHotEncoder(),\n",
       "                                                  [&#x27;make&#x27;, &#x27;model&#x27;])])),\n",
       "                (&#x27;cluster&#x27;, KMeans(n_clusters=10, n_init=10, random_state=0))])</pre></div></div></div><div class=\"sk-serial\"><div class=\"sk-item sk-dashed-wrapped\"><div class=\"sk-label-container\"><div class=\"sk-label sk-toggleable\"><input class=\"sk-toggleable__control sk-hidden--visually\" id=\"sk-estimator-id-2\" type=\"checkbox\" ><label for=\"sk-estimator-id-2\" class=\"sk-toggleable__label sk-toggleable__label-arrow\">preprocessor: ColumnTransformer</label><div class=\"sk-toggleable__content\"><pre>ColumnTransformer(transformers=[(&#x27;num&#x27;, StandardScaler(),\n",
       "                                 [&#x27;year&#x27;, &#x27;odometer&#x27;, &#x27;condition&#x27;]),\n",
       "                                (&#x27;cat&#x27;, OneHotEncoder(), [&#x27;make&#x27;, &#x27;model&#x27;])])</pre></div></div></div><div class=\"sk-parallel\"><div class=\"sk-parallel-item\"><div class=\"sk-item\"><div class=\"sk-label-container\"><div class=\"sk-label sk-toggleable\"><input class=\"sk-toggleable__control sk-hidden--visually\" id=\"sk-estimator-id-3\" type=\"checkbox\" ><label for=\"sk-estimator-id-3\" class=\"sk-toggleable__label sk-toggleable__label-arrow\">num</label><div class=\"sk-toggleable__content\"><pre>[&#x27;year&#x27;, &#x27;odometer&#x27;, &#x27;condition&#x27;]</pre></div></div></div><div class=\"sk-serial\"><div class=\"sk-item\"><div class=\"sk-estimator sk-toggleable\"><input class=\"sk-toggleable__control sk-hidden--visually\" id=\"sk-estimator-id-4\" type=\"checkbox\" ><label for=\"sk-estimator-id-4\" class=\"sk-toggleable__label sk-toggleable__label-arrow\">StandardScaler</label><div class=\"sk-toggleable__content\"><pre>StandardScaler()</pre></div></div></div></div></div></div><div class=\"sk-parallel-item\"><div class=\"sk-item\"><div class=\"sk-label-container\"><div class=\"sk-label sk-toggleable\"><input class=\"sk-toggleable__control sk-hidden--visually\" id=\"sk-estimator-id-5\" type=\"checkbox\" ><label for=\"sk-estimator-id-5\" class=\"sk-toggleable__label sk-toggleable__label-arrow\">cat</label><div class=\"sk-toggleable__content\"><pre>[&#x27;make&#x27;, &#x27;model&#x27;]</pre></div></div></div><div class=\"sk-serial\"><div class=\"sk-item\"><div class=\"sk-estimator sk-toggleable\"><input class=\"sk-toggleable__control sk-hidden--visually\" id=\"sk-estimator-id-6\" type=\"checkbox\" ><label for=\"sk-estimator-id-6\" class=\"sk-toggleable__label sk-toggleable__label-arrow\">OneHotEncoder</label><div class=\"sk-toggleable__content\"><pre>OneHotEncoder()</pre></div></div></div></div></div></div></div></div><div class=\"sk-item\"><div class=\"sk-estimator sk-toggleable\"><input class=\"sk-toggleable__control sk-hidden--visually\" id=\"sk-estimator-id-7\" type=\"checkbox\" ><label for=\"sk-estimator-id-7\" class=\"sk-toggleable__label sk-toggleable__label-arrow\">KMeans</label><div class=\"sk-toggleable__content\"><pre>KMeans(n_clusters=10, n_init=10, random_state=0)</pre></div></div></div></div></div></div></div>"
      ],
      "text/plain": [
       "Pipeline(steps=[('preprocessor',\n",
       "                 ColumnTransformer(transformers=[('num', StandardScaler(),\n",
       "                                                  ['year', 'odometer',\n",
       "                                                   'condition']),\n",
       "                                                 ('cat', OneHotEncoder(),\n",
       "                                                  ['make', 'model'])])),\n",
       "                ('cluster', KMeans(n_clusters=10, n_init=10, random_state=0))])"
      ]
     },
     "execution_count": 20,
     "metadata": {},
     "output_type": "execute_result"
    }
   ],
   "source": [
    "y = car_data['sellingprice']\n",
    "X = car_data.drop('sellingprice', axis=1)\n",
    "\n",
    "# Preprocessing\n",
    "categorical_features = ['make', 'model']\n",
    "numerical_features = ['year', 'odometer', 'condition']\n",
    "\n",
    "preprocessor = ColumnTransformer(\n",
    "    transformers=[\n",
    "        ('num', StandardScaler(), numerical_features),\n",
    "        ('cat', OneHotEncoder(), categorical_features)\n",
    "    ])\n",
    "\n",
    "# Elbow Method to determine number of clusters\n",
    "sse = []\n",
    "for k in range(1, 11):\n",
    "    kmeans = KMeans(n_clusters=k, init='k-means++', max_iter=300, n_init=10, random_state=0)\n",
    "    pipeline = Pipeline(steps=[('preprocessor', preprocessor),\n",
    "                               ('cluster', kmeans)])\n",
    "    pipeline.fit(X)\n",
    "    sse.append(kmeans.inertia_)\n",
    "\n",
    "plt.plot(range(1, 11), sse)\n",
    "plt.title('Elbow Method')\n",
    "plt.xlabel('Number of clusters')\n",
    "plt.ylabel('SSE')\n",
    "plt.show()\n",
    "\n",
    "pipeline.fit(X)"
   ]
  },
  {
   "cell_type": "code",
   "execution_count": 21,
   "id": "792cf839-646e-480c-9560-157d5a190f40",
   "metadata": {},
   "outputs": [],
   "source": [
    "# optimal_k determined based on Elbow method\n",
    "optimal_k = 4  \n",
    "kmeans = KMeans(n_clusters=optimal_k, init='k-means++', max_iter=300, n_init=10, random_state=0)\n",
    "pipeline = Pipeline(steps=[('preprocessor', preprocessor),\n",
    "                           ('cluster', kmeans)])"
   ]
  },
  {
   "cell_type": "code",
   "execution_count": 22,
   "id": "0ed026f2-64a4-40a0-a123-b3a1c5b4fc0e",
   "metadata": {
    "scrolled": false
   },
   "outputs": [
    {
     "name": "stderr",
     "output_type": "stream",
     "text": [
      "/Users/lassewillen/anaconda3/lib/python3.11/site-packages/sklearn/cluster/_kmeans.py:1412: FutureWarning: The default value of `n_init` will change from 10 to 'auto' in 1.4. Set the value of `n_init` explicitly to suppress the warning\n",
      "  super()._check_params_vs_input(X, default_n_init=10)\n"
     ]
    },
    {
     "data": {
      "image/png": "[encoded data removed]",
      "text/plain": [
       "<Figure size 640x480 with 2 Axes>"
      ]
     },
     "metadata": {},
     "output_type": "display_data"
    }
   ],
   "source": [
    "# Prepare the features by dropping the target variable 'sellingprice'\n",
    "X = car_data.drop('sellingprice', axis=1)\n",
    "\n",
    "# Define which features are categorical and which are numerical\n",
    "categorical_features = ['make', 'model']\n",
    "numerical_features = ['year', 'odometer', 'condition']\n",
    "\n",
    "# Create a preprocessor that scales numerical features and encodes categorical features\n",
    "preprocessor = ColumnTransformer(\n",
    "    transformers=[\n",
    "        ('num', StandardScaler(), numerical_features),  # Scale numerical features to have mean=0 and variance=1\n",
    "        ('cat', OneHotEncoder(handle_unknown='ignore'), categorical_features)  # Convert categorical features into one-hot vectors\n",
    "    ])\n",
    "\n",
    "# Create a pipeline that preprocesses the data and then applies KMeans clustering\n",
    "pipeline = Pipeline([\n",
    "    ('preprocessor', preprocessor),  # First, preprocess the data\n",
    "    ('cluster', KMeans(n_clusters=4, random_state=42))  # Then cluster it into 4 groups\n",
    "])\n",
    "\n",
    "# Fit the pipeline to the data\n",
    "pipeline.fit(X)\n",
    "\n",
    "# Use TruncatedSVD to reduce the dimensionality of the preprocessed data to 2D for visualization\n",
    "svd = TruncatedSVD(n_components=2, random_state=42)\n",
    "X_reduced = svd.fit_transform(pipeline.named_steps['preprocessor'].transform(X))  # Transform the data to 2D\n",
    "\n",
    "# Visualize the clusters\n",
    "plt.scatter(X_reduced[:, 0], X_reduced[:, 1], c=pipeline.named_steps['cluster'].labels_, cmap='viridis')  # Scatter plot of the two principal components colored by cluster\n",
    "plt.title('2D Visualization of Car Data Clusters')  # Title of the plot\n",
    "plt.xlabel('Component 1')  # X-axis label\n",
    "plt.ylabel('Component 2')  # Y-axis label\n",
    "plt.colorbar(label='Cluster Label')  # Color bar to show cluster labels\n",
    "plt.show()  # Display the plot"
   ]
  },
  {
   "cell_type": "code",
   "execution_count": null,
   "id": "8ca4348a",
   "metadata": {},
   "outputs": [],
   "source": []
  }
 ],
 "metadata": {
  "kernelspec": {
   "display_name": "Python 3 (ipykernel)",
   "language": "python",
   "name": "python3"
  },
  "language_info": {
   "codemirror_mode": {
    "name": "ipython",
    "version": 3
   },
   "file_extension": ".py",
   "mimetype": "text/x-python",
   "name": "python",
   "nbconvert_exporter": "python",
   "pygments_lexer": "ipython3",
   "version": "3.11.5"
  }
 },
 "nbformat": 4,
 "nbformat_minor": 5
}
